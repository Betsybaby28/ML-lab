{
 "cells": [
  {
   "cell_type": "code",
   "execution_count": 1,
   "metadata": {},
   "outputs": [],
   "source": [
    "from sklearn.model_selection import train_test_split\n",
    "from sklearn.neighbors import KNeighborsClassifier\n",
    "from sklearn import datasets"
   ]
  },
  {
   "cell_type": "code",
   "execution_count": 2,
   "metadata": {},
   "outputs": [
    {
     "name": "stdout",
     "output_type": "stream",
     "text": [
      "Iris Data set loaded\n"
     ]
    }
   ],
   "source": [
    "iris=datasets.load_iris()\n",
    "print(\"Iris Data set loaded\")"
   ]
  },
  {
   "cell_type": "code",
   "execution_count": 3,
   "metadata": {},
   "outputs": [
    {
     "name": "stdout",
     "output_type": "stream",
     "text": [
      "Dataset is split into training and testing...\n",
      "Size of training data and its label (135, 4) (135,)\n",
      "Size of training data and its label (15, 4) (15,)\n"
     ]
    }
   ],
   "source": [
    "x_train,x_test,y_train,y_test=train_test_split(iris.data,iris.target,test_size=0.1)\n",
    "print(\"Dataset is split into training and testing...\")\n",
    "print(\"Size of training data and its label\",x_train.shape,y_train.shape)\n",
    "print(\"Size of training data and its label\",x_test.shape,y_test.shape)\n"
   ]
  },
  {
   "cell_type": "code",
   "execution_count": 4,
   "metadata": {},
   "outputs": [
    {
     "name": "stdout",
     "output_type": "stream",
     "text": [
      "Label 0 - setosa\n",
      "Label 1 - versicolor\n",
      "Label 2 - virginica\n"
     ]
    }
   ],
   "source": [
    "for i in range(len(iris.target_names)):\n",
    "    print(\"Label\",i,\"-\",str(iris.target_names[i]))"
   ]
  },
  {
   "cell_type": "code",
   "execution_count": 5,
   "metadata": {},
   "outputs": [],
   "source": [
    "classifier=KNeighborsClassifier(n_neighbors=1)"
   ]
  },
  {
   "cell_type": "code",
   "execution_count": 6,
   "metadata": {},
   "outputs": [
    {
     "data": {
      "text/plain": [
       "KNeighborsClassifier(n_neighbors=1)"
      ]
     },
     "execution_count": 6,
     "metadata": {},
     "output_type": "execute_result"
    }
   ],
   "source": [
    "classifier.fit(x_train,y_train)"
   ]
  },
  {
   "cell_type": "code",
   "execution_count": 7,
   "metadata": {},
   "outputs": [],
   "source": [
    "y_pred=classifier.predict(x_test)"
   ]
  },
  {
   "cell_type": "code",
   "execution_count": 8,
   "metadata": {},
   "outputs": [
    {
     "name": "stdout",
     "output_type": "stream",
     "text": [
      "Results of classification using K-nn with K=1\n",
      "Sample: [4.5 2.3 1.3 0.3] Actual Label: 0 Predicted label: 0\n",
      "Sample: [5.  3.2 1.2 0.2] Actual Label: 0 Predicted label: 0\n",
      "Sample: [6.9 3.1 5.1 2.3] Actual Label: 2 Predicted label: 2\n",
      "Sample: [6.4 2.8 5.6 2.1] Actual Label: 2 Predicted label: 2\n",
      "Sample: [5.7 3.8 1.7 0.3] Actual Label: 0 Predicted label: 0\n",
      "Sample: [6.7 3.  5.  1.7] Actual Label: 1 Predicted label: 1\n",
      "Sample: [4.9 2.5 4.5 1.7] Actual Label: 2 Predicted label: 1\n",
      "Sample: [5.6 3.  4.1 1.3] Actual Label: 1 Predicted label: 1\n",
      "Sample: [5.8 2.7 5.1 1.9] Actual Label: 2 Predicted label: 2\n",
      "Sample: [5.7 2.8 4.5 1.3] Actual Label: 1 Predicted label: 1\n",
      "Sample: [4.8 3.1 1.6 0.2] Actual Label: 0 Predicted label: 0\n",
      "Sample: [6.1 3.  4.9 1.8] Actual Label: 2 Predicted label: 2\n",
      "Sample: [5.  2.3 3.3 1. ] Actual Label: 1 Predicted label: 1\n",
      "Sample: [5.6 2.5 3.9 1.1] Actual Label: 1 Predicted label: 1\n",
      "Sample: [4.6 3.6 1.  0.2] Actual Label: 0 Predicted label: 0\n",
      "Classification Accuracy: 0.9333333333333333\n"
     ]
    }
   ],
   "source": [
    "print(\"Results of classification using K-nn with K=1\")\n",
    "for r in range(0,len(x_test)):\n",
    "    print(\"Sample:\",str(x_test[r]), \"Actual Label:\",str(y_test[r]), \"Predicted label:\",str(y_pred[r]))\n",
    "print(\"Classification Accuracy:\",classifier.score(x_test,y_test));"
   ]
  },
  {
   "cell_type": "code",
   "execution_count": 9,
   "metadata": {},
   "outputs": [],
   "source": [
    "from sklearn.metrics import classification_report,confusion_matrix\n",
    "from sklearn.metrics import accuracy_score"
   ]
  },
  {
   "cell_type": "code",
   "execution_count": 10,
   "metadata": {},
   "outputs": [
    {
     "name": "stdout",
     "output_type": "stream",
     "text": [
      "Confusion matrix\n",
      "[[5 0 0]\n",
      " [0 5 0]\n",
      " [0 1 4]]\n",
      "accuracy Metrics\n",
      "              precision    recall  f1-score   support\n",
      "\n",
      "           0       1.00      1.00      1.00         5\n",
      "           1       0.83      1.00      0.91         5\n",
      "           2       1.00      0.80      0.89         5\n",
      "\n",
      "    accuracy                           0.93        15\n",
      "   macro avg       0.94      0.93      0.93        15\n",
      "weighted avg       0.94      0.93      0.93        15\n",
      "\n",
      "correct prediction 0.9333333333333333\n",
      "Wrong prediction 0.06666666666666665\n"
     ]
    }
   ],
   "source": [
    "print('Confusion matrix')\n",
    "print(confusion_matrix(y_test,y_pred))\n",
    "print('accuracy Metrics')\n",
    "print(classification_report(y_test,y_pred))\n",
    "print(\"correct prediction\",accuracy_score(y_test,y_pred))\n",
    "print(\"Wrong prediction\",1-accuracy_score(y_test,y_pred))"
   ]
  },
  {
   "cell_type": "code",
   "execution_count": null,
   "metadata": {},
   "outputs": [],
   "source": []
  }
 ],
 "metadata": {
  "kernelspec": {
   "display_name": "Python 3",
   "language": "python",
   "name": "python3"
  },
  "language_info": {
   "codemirror_mode": {
    "name": "ipython",
    "version": 3
   },
   "file_extension": ".py",
   "mimetype": "text/x-python",
   "name": "python",
   "nbconvert_exporter": "python",
   "pygments_lexer": "ipython3",
   "version": "3.8.3"
  }
 },
 "nbformat": 4,
 "nbformat_minor": 4
}
